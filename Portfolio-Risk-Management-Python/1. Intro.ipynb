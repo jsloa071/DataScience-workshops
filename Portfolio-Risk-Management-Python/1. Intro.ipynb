{
 "cells": [
  {
   "cell_type": "markdown",
   "metadata": {},
   "source": [
    "# Introduction to Portfolio Risk Management in Python"
   ]
  },
  {
   "cell_type": "markdown",
   "metadata": {},
   "source": [
    "## Returns\n",
    "\n",
    "Derived from stock prices\n",
    "\n",
    "2 types:\n",
    "* Discrete returns (simple returns) — most commonly used. Represent periodic (daily, weekly, monthly, etc) price movements\n",
    "* Log returns — often used in academia and financial modelling. They assume continuous compounding\n",
    "\n",
    "### Calculating stock returns\n",
    "* Discrete returns calculated as the change in price as a percentage of the previous period’s price"
   ]
  },
  {
   "cell_type": "code",
   "execution_count": 13,
   "metadata": {},
   "outputs": [],
   "source": [
    "def simple_return(day_one_price, day_two_price):\n",
    "    return ((day_two_price - day_one_price)/day_one_price)"
   ]
  },
  {
   "cell_type": "markdown",
   "metadata": {},
   "source": [
    "### Calculating log returns\n",
    "* calculated as the difference between the logs of 2 prices\n",
    "* returns _aggregate across time_ while discrete returns _aggregate across assets_"
   ]
  },
  {
   "cell_type": "code",
   "execution_count": 14,
   "metadata": {},
   "outputs": [],
   "source": [
    "import numpy as np\n",
    "def log_return(day_one_price, day_two_price):\n",
    "    return (np.log(day_one_price)/np.log(day_two_price))"
   ]
  },
  {
   "cell_type": "code",
   "execution_count": 15,
   "metadata": {},
   "outputs": [
    {
     "name": "stdout",
     "output_type": "stream",
     "text": [
      "         Date       Open       High        Low      Close  Adj Close  Volume\n",
      "0  2018-09-21  22.469999  22.549999  22.370001  22.379999  22.379999  335600\n",
      "1  2018-09-24  22.330000  22.559999  21.889999  21.910000  21.910000  104900\n",
      "2  2018-09-25  21.910000  22.080000  21.809999  21.850000  21.850000  107200\n",
      "3  2018-09-26  21.889999  22.129999  21.670000  21.790001  21.790001  170700\n",
      "4  2018-09-27  21.700001  21.820000  21.520000  21.530001  21.530001   82200\n",
      "5  2018-09-28  21.520000  21.700001  21.490000  21.549999  21.549999   98900\n",
      "6  2018-10-01  21.530001  21.889999  21.500000  21.709999  21.709999   91200\n",
      "7  2018-10-02  21.770000  21.809999  21.440001  21.459999  21.459999   92200\n",
      "8  2018-10-03  21.600000  21.600000  21.139999  21.170000  21.170000   75000\n",
      "9  2018-10-04  21.080000  21.090000  20.660000  20.780001  20.780001   85200\n",
      "10 2018-10-05  20.830000  20.830000  20.420000  20.760000  20.760000   75600\n",
      "11 2018-10-08  20.750000  20.889999  20.590000  20.809999  20.809999   57100\n",
      "12 2018-10-09  20.760000  20.950001  20.709999  20.760000  20.760000   45900\n",
      "13 2018-10-10  20.760000  20.930000  20.580000  20.610001  20.610001   97200\n",
      "14 2018-10-11  20.570000  20.740000  20.209999  20.260000  20.260000  124300\n",
      "15 2018-10-12  20.510000  20.520000  20.250000  20.469999  20.469999  140800\n",
      "16 2018-10-15  20.420000  20.570000  20.030001  20.410000  20.410000   84800\n",
      "17 2018-10-16  20.490000  20.709999  20.350000  20.670000  20.670000   69400\n",
      "18 2018-10-17  20.629999  20.790001  20.590000  20.650000  20.650000   85700\n",
      "19 2018-10-18  20.580000  20.580000  20.070000  20.230000  20.230000   81100\n",
      "20 2018-10-19  20.190001  20.459999  20.049999  20.049999  20.049999   52400\n"
     ]
    }
   ],
   "source": [
    "# Import pandas as pd\n",
    "import pandas as pd\n",
    "\n",
    "fpath_csv = 'CSV_stockdata.csv'\n",
    "\n",
    "# Read in the csv file and parse dates\n",
    "StockPrices = pd.read_csv(fpath_csv, parse_dates=['Date'])\n",
    "\n",
    "# Ensure the prices are sorted by Date\n",
    "StockPrices = StockPrices.sort_values(by='Date')\n",
    "\n",
    "# Print only the first five rows of StockPrices\n",
    "print(StockPrices)"
   ]
  },
  {
   "cell_type": "code",
   "execution_count": 16,
   "metadata": {},
   "outputs": [
    {
     "name": "stdout",
     "output_type": "stream",
     "text": [
      "        Date       Open       High        Low      Close  Adj Close  Volume  \\\n",
      "0 2018-09-21  22.469999  22.549999  22.370001  22.379999  22.379999  335600   \n",
      "1 2018-09-24  22.330000  22.559999  21.889999  21.910000  21.910000  104900   \n",
      "2 2018-09-25  21.910000  22.080000  21.809999  21.850000  21.850000  107200   \n",
      "3 2018-09-26  21.889999  22.129999  21.670000  21.790001  21.790001  170700   \n",
      "4 2018-09-27  21.700001  21.820000  21.520000  21.530001  21.530001   82200   \n",
      "\n",
      "    Returns  \n",
      "0       NaN  \n",
      "1 -0.021001  \n",
      "2 -0.002738  \n",
      "3 -0.002746  \n",
      "4 -0.011932  \n"
     ]
    },
    {
     "data": {
      "image/png": "[encoded data removed]",
      "text/plain": [
       "<Figure size 432x288 with 1 Axes>"
      ]
     },
     "metadata": {},
     "output_type": "display_data"
    }
   ],
   "source": [
    "import matplotlib.pyplot as plt\n",
    "\n",
    "# Calculate the daily returns of the adjusted close price\n",
    "StockPrices['Returns'] = StockPrices['Adj Close'].pct_change()\n",
    "\n",
    "# Check the first five rows of StockPrices\n",
    "print(StockPrices.head())\n",
    "\n",
    "# Plot the returns column over time\n",
    "StockPrices['Returns'].plot()\n",
    "plt.show()"
   ]
  },
  {
   "cell_type": "code",
   "execution_count": 18,
   "metadata": {},
   "outputs": [
    {
     "data": {
      "image/png": "[encoded data removed]",
      "text/plain": [
       "<Figure size 432x288 with 1 Axes>"
      ]
     },
     "metadata": {},
     "output_type": "display_data"
    }
   ],
   "source": [
    "# Convert the decimal returns into percentage returns\n",
    "percent_return = StockPrices['Returns']*100\n",
    "\n",
    "# Drop the missing values\n",
    "returns_plot = percent_return.dropna()\n",
    "\n",
    "# Plot the returns histogram\n",
    "# shows the frequency of the return % for the stock\n",
    "plt.hist(returns_plot, bins=75)\n",
    "plt.show()"
   ]
  },
  {
   "cell_type": "code",
   "execution_count": null,
   "metadata": {},
   "outputs": [],
   "source": []
  }
 ],
 "metadata": {
  "kernelspec": {
   "display_name": "Python 3",
   "language": "python",
   "name": "python3"
  },
  "language_info": {
   "codemirror_mode": {
    "name": "ipython",
    "version": 3
   },
   "file_extension": ".py",
   "mimetype": "text/x-python",
   "name": "python",
   "nbconvert_exporter": "python",
   "pygments_lexer": "ipython3",
   "version": "3.6.5"
  }
 },
 "nbformat": 4,
 "nbformat_minor": 2
}
