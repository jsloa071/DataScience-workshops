{
 "cells": [
  {
   "cell_type": "markdown",
   "metadata": {},
   "source": [
    "# Mean, variance, and normal distribution"
   ]
  },
  {
   "cell_type": "markdown",
   "metadata": {},
   "source": [
    "## Moments of distribution\n",
    "\n",
    "Probability distributions have the following moments:\n",
    "1. Mean (u)\n",
    "2. Variance (sigma-squared) -- measure of the variablity in outcomes\n",
    "3. Skewness -- measure of the tilt\n",
    "4. Kurtosis -- measure of the thickness of the tails of the distribution\n",
    "\n",
    "\n",
    "## Standard normal distribution\n",
    "* A special case of the normal distribution when sigma (std) = 1 and mu (mean) = 0\n",
    "* tend to have a skew near 0 and kurtosis near 3\n",
    "* financial returns tend to have a skew > 0 and kurtosis > 3\n",
    "* tend to have outliers and positive returns"
   ]
  },
  {
   "cell_type": "code",
   "execution_count": 2,
   "metadata": {},
   "outputs": [],
   "source": [
    "import numpy as np\n",
    "import pandas as pd\n",
    "import matplotlib.pyplot as plt"
   ]
  },
  {
   "cell_type": "code",
   "execution_count": 3,
   "metadata": {},
   "outputs": [
    {
     "data": {
      "text/html": [
       "<div>\n",
       "<style scoped>\n",
       "    .dataframe tbody tr th:only-of-type {\n",
       "        vertical-align: middle;\n",
       "    }\n",
       "\n",
       "    .dataframe tbody tr th {\n",
       "        vertical-align: top;\n",
       "    }\n",
       "\n",
       "    .dataframe thead th {\n",
       "        text-align: right;\n",
       "    }\n",
       "</style>\n",
       "<table border=\"1\" class=\"dataframe\">\n",
       "  <thead>\n",
       "    <tr style=\"text-align: right;\">\n",
       "      <th></th>\n",
       "      <th>Date</th>\n",
       "      <th>Open</th>\n",
       "      <th>High</th>\n",
       "      <th>Low</th>\n",
       "      <th>Close</th>\n",
       "      <th>Adj Close</th>\n",
       "      <th>Volume</th>\n",
       "      <th>Returns</th>\n",
       "    </tr>\n",
       "  </thead>\n",
       "  <tbody>\n",
       "    <tr>\n",
       "      <th>0</th>\n",
       "      <td>2018-09-21</td>\n",
       "      <td>22.469999</td>\n",
       "      <td>22.549999</td>\n",
       "      <td>22.370001</td>\n",
       "      <td>22.379999</td>\n",
       "      <td>22.379999</td>\n",
       "      <td>335600</td>\n",
       "      <td>NaN</td>\n",
       "    </tr>\n",
       "    <tr>\n",
       "      <th>1</th>\n",
       "      <td>2018-09-24</td>\n",
       "      <td>22.330000</td>\n",
       "      <td>22.559999</td>\n",
       "      <td>21.889999</td>\n",
       "      <td>21.910000</td>\n",
       "      <td>21.910000</td>\n",
       "      <td>104900</td>\n",
       "      <td>-0.021001</td>\n",
       "    </tr>\n",
       "    <tr>\n",
       "      <th>2</th>\n",
       "      <td>2018-09-25</td>\n",
       "      <td>21.910000</td>\n",
       "      <td>22.080000</td>\n",
       "      <td>21.809999</td>\n",
       "      <td>21.850000</td>\n",
       "      <td>21.850000</td>\n",
       "      <td>107200</td>\n",
       "      <td>-0.002738</td>\n",
       "    </tr>\n",
       "    <tr>\n",
       "      <th>3</th>\n",
       "      <td>2018-09-26</td>\n",
       "      <td>21.889999</td>\n",
       "      <td>22.129999</td>\n",
       "      <td>21.670000</td>\n",
       "      <td>21.790001</td>\n",
       "      <td>21.790001</td>\n",
       "      <td>170700</td>\n",
       "      <td>-0.002746</td>\n",
       "    </tr>\n",
       "    <tr>\n",
       "      <th>4</th>\n",
       "      <td>2018-09-27</td>\n",
       "      <td>21.700001</td>\n",
       "      <td>21.820000</td>\n",
       "      <td>21.520000</td>\n",
       "      <td>21.530001</td>\n",
       "      <td>21.530001</td>\n",
       "      <td>82200</td>\n",
       "      <td>-0.011932</td>\n",
       "    </tr>\n",
       "  </tbody>\n",
       "</table>\n",
       "</div>"
      ],
      "text/plain": [
       "        Date       Open       High        Low      Close  Adj Close  Volume  \\\n",
       "0 2018-09-21  22.469999  22.549999  22.370001  22.379999  22.379999  335600   \n",
       "1 2018-09-24  22.330000  22.559999  21.889999  21.910000  21.910000  104900   \n",
       "2 2018-09-25  21.910000  22.080000  21.809999  21.850000  21.850000  107200   \n",
       "3 2018-09-26  21.889999  22.129999  21.670000  21.790001  21.790001  170700   \n",
       "4 2018-09-27  21.700001  21.820000  21.520000  21.530001  21.530001   82200   \n",
       "\n",
       "    Returns  \n",
       "0       NaN  \n",
       "1 -0.021001  \n",
       "2 -0.002738  \n",
       "3 -0.002746  \n",
       "4 -0.011932  "
      ]
     },
     "execution_count": 3,
     "metadata": {},
     "output_type": "execute_result"
    }
   ],
   "source": [
    "fpath_csv = 'CSV_stockdata.csv'\n",
    "StockPrices = pd.read_csv(fpath_csv, parse_dates=['Date'])\n",
    "StockPrices = StockPrices.sort_values(by='Date')\n",
    "StockPrices['Returns'] = StockPrices['Adj Close'].pct_change()\n",
    "StockPrices.head()"
   ]
  },
  {
   "cell_type": "code",
   "execution_count": 4,
   "metadata": {},
   "outputs": [
    {
     "data": {
      "text/plain": [
       "-0.005435528910180826"
      ]
     },
     "execution_count": 4,
     "metadata": {},
     "output_type": "execute_result"
    }
   ],
   "source": [
    "# calculate the mean\n",
    "np.mean(StockPrices['Returns'])"
   ]
  },
  {
   "cell_type": "code",
   "execution_count": 5,
   "metadata": {},
   "outputs": [
    {
     "data": {
      "text/plain": [
       "-0.746778200682007"
      ]
     },
     "execution_count": 5,
     "metadata": {},
     "output_type": "execute_result"
    }
   ],
   "source": [
    "# Calculate the average annualized return assuming 252 trading days\n",
    "# important: must add one before raising to the power of 252!\n",
    "\n",
    "((1+np.mean(StockPrices['Returns']))**252)-1"
   ]
  },
  {
   "cell_type": "code",
   "execution_count": 6,
   "metadata": {},
   "outputs": [
    {
     "data": {
      "text/plain": [
       "0.009600312789186207"
      ]
     },
     "execution_count": 6,
     "metadata": {},
     "output_type": "execute_result"
    }
   ],
   "source": [
    "## Variance and Standard Deviation (volatility)\n",
    "# variance = sigma-squared (std-squared)\n",
    "# higher volatility = higher risk (measure dispersion of returns)\n",
    "\n",
    "np.std(StockPrices['Returns'])"
   ]
  },
  {
   "cell_type": "code",
   "execution_count": 7,
   "metadata": {},
   "outputs": [
    {
     "data": {
      "text/plain": [
       "9.216600565021226e-05"
      ]
     },
     "execution_count": 7,
     "metadata": {},
     "output_type": "execute_result"
    }
   ],
   "source": [
    "# variance = std ** 2\n",
    "np.std(StockPrices['Returns'])**2"
   ]
  },
  {
   "cell_type": "code",
   "execution_count": 8,
   "metadata": {},
   "outputs": [
    {
     "data": {
      "text/plain": [
       "0.1524002408917174"
      ]
     },
     "execution_count": 8,
     "metadata": {},
     "output_type": "execute_result"
    }
   ],
   "source": [
    "# Volatility scales with the square root of time\n",
    "# multiple by the square root of the number of trading days in the year\n",
    "np.std(StockPrices['Returns']) * np.sqrt(252)"
   ]
  },
  {
   "cell_type": "code",
   "execution_count": 11,
   "metadata": {},
   "outputs": [
    {
     "name": "stdout",
     "output_type": "stream",
     "text": [
      "Mean daily return:  -0.005435528910180826\n",
      "Mean annualized return:  -0.746778200682007\n",
      "Daily standard deviation (sigma):  0.009600312789186207\n",
      "Daily variance (sigma-squared):  9.216600565021226e-05\n",
      "Annualized deviation:  0.1524002408917174\n",
      "Annualized variance:  0.02322583342385349\n"
     ]
    }
   ],
   "source": [
    "# Recap\n",
    "# Import numpy as np\n",
    "import numpy as np\n",
    "\n",
    "# Calculate the average daily return of the stock\n",
    "mean_return_daily = np.mean(StockPrices['Returns'])\n",
    "print('Mean daily return: ', mean_return_daily)\n",
    "\n",
    "# Calculate the implied annualized average return\n",
    "mean_return_annualized = ((1+mean_return_daily)**252)-1\n",
    "print('Mean annualized return: ', mean_return_annualized)\n",
    "\n",
    "# Calculate the standard deviation of daily return of the stock\n",
    "sigma_daily = np.std(StockPrices['Returns'])\n",
    "print('Daily standard deviation (sigma): ', sigma_daily)\n",
    "\n",
    "# Calculate the daily variance\n",
    "variance_daily = sigma_daily**2\n",
    "print('Daily variance (sigma-squared): ', variance_daily)\n",
    "\n",
    "# Annualize the standard deviation\n",
    "sigma_annualized = sigma_daily*np.sqrt(252)\n",
    "print('Annualized deviation: ', sigma_annualized)\n",
    "\n",
    "# Calculate the annualized variance\n",
    "variance_annualized = sigma_annualized**2\n",
    "print('Annualized variance: ', variance_annualized)"
   ]
  },
  {
   "cell_type": "markdown",
   "metadata": {},
   "source": [
    "## Skew and Kurtosis\n",
    "### Skew\n",
    "* Measure of how much a distrubution leans to the left or the right\n",
    "* Negative - right-leaning\n",
    "* Positive - left-leaning\n",
    "* In Finance - we want positive skew - higher likelihood of significant returns on right hand side, compressed and predictible distribution of negative returns\n",
    "* Above 0 -- possible non-normality"
   ]
  },
  {
   "cell_type": "code",
   "execution_count": 13,
   "metadata": {},
   "outputs": [
    {
     "data": {
      "text/plain": [
       "0.06737216053396748"
      ]
     },
     "execution_count": 13,
     "metadata": {},
     "output_type": "execute_result"
    }
   ],
   "source": [
    "from scipy.stats import skew\n",
    "skew(StockPrices['Returns'].dropna())"
   ]
  },
  {
   "cell_type": "markdown",
   "metadata": {},
   "source": [
    "### Kurtosis\n",
    "* Measure of thickness of the tails of the distribution\n",
    "* Used as a proxy for the probability of outliers\n",
    "* Normal - around 3\n",
    "* Financial returns tend to have positive excess kurtosis >3 (Leptokurtic)\n",
    "* Often compared to a normal distribution - so many in Python will automatically return excess (-3)\n",
    "* In scipy, kurtosis function computes **excesss kurtosis**\n",
    "* \\> 0 indicates non-normality\n",
    "* High excess kurtosis indicates high risk (large movements)\n",
    "* High kurtosis distributions said to have \"thick tails\" -- outliers are more common"
   ]
  },
  {
   "cell_type": "code",
   "execution_count": 14,
   "metadata": {},
   "outputs": [
    {
     "data": {
      "text/plain": [
       "-0.8394822399421926"
      ]
     },
     "execution_count": 14,
     "metadata": {},
     "output_type": "execute_result"
    }
   ],
   "source": [
    "from scipy.stats import kurtosis\n",
    "kurtosis(StockPrices['Returns'].dropna())"
   ]
  },
  {
   "cell_type": "markdown",
   "metadata": {},
   "source": [
    "## Shapiro-Wilk tests\n",
    "* estimate the probability the data is normally distrbuted\n",
    "* null hypothesis: the data is normally-distrubuted\n",
    "    * if p <= 0.05, can safely reject the null hypothesis and assume the data are non-normal\n",
    "    \n",
    "You can use the shapiro() function from scipy.stats to run a Shapiro-Wilk test of normality on the stock returns. The function will return two values in a list. The first value is the t-stat of the test, and the second value is the p-value. You can use the p-value to make a judgement about the normality of the data. If the p-value is less than or equal to 0.05, you can safely reject the null hypothesis of normality and assume that the data are non-normally distributed."
   ]
  },
  {
   "cell_type": "code",
   "execution_count": 16,
   "metadata": {},
   "outputs": [
    {
     "name": "stdout",
     "output_type": "stream",
     "text": [
      "0.06737216053396748\n",
      "-0.8394822399421926\n",
      "2.1605177600578074\n",
      "Shapiro results: (0.9626290202140808, 0.5976030826568604)\n",
      "P-value:  0.5976030826568604\n"
     ]
    }
   ],
   "source": [
    "## Recap\n",
    "# Import skew from scipy.stats\n",
    "from scipy.stats import skew\n",
    "\n",
    "# Drop the missing values\n",
    "clean_returns = StockPrices['Returns'].dropna()\n",
    "\n",
    "# Calculate the third moment (skewness) of the returns distribution\n",
    "returns_skewness = skew(clean_returns)\n",
    "print(returns_skewness)\n",
    "\n",
    "# Import kurtosis from scipy.stats\n",
    "from scipy.stats import kurtosis\n",
    "\n",
    "# Calculate the excess kurtosis of the returns distribution\n",
    "excess_kurtosis = kurtosis(clean_returns)\n",
    "print(excess_kurtosis)\n",
    "\n",
    "# Derive the true fourth moment of the returns distribution (the true kurtosis = excess_kurtosis + 3)\n",
    "fourth_moment = excess_kurtosis+3\n",
    "print(fourth_moment)\n",
    "\n",
    "# Import shapiro from scipy.stats\n",
    "from scipy.stats import shapiro\n",
    "\n",
    "# Run the Shapiro-Wilk test on the stock returns\n",
    "shapiro_results = shapiro(clean_returns)\n",
    "print(\"Shapiro results:\", shapiro_results)\n",
    "\n",
    "# Extract the p-value from the shapiro_results\n",
    "p_value = shapiro_results[1]\n",
    "print(\"P-value: \", p_value)"
   ]
  },
  {
   "cell_type": "code",
   "execution_count": null,
   "metadata": {},
   "outputs": [],
   "source": []
  }
 ],
 "metadata": {
  "kernelspec": {
   "display_name": "Python 3",
   "language": "python",
   "name": "python3"
  },
  "language_info": {
   "codemirror_mode": {
    "name": "ipython",
    "version": 3
   },
   "file_extension": ".py",
   "mimetype": "text/x-python",
   "name": "python",
   "nbconvert_exporter": "python",
   "pygments_lexer": "ipython3",
   "version": "3.6.5"
  }
 },
 "nbformat": 4,
 "nbformat_minor": 2
}
