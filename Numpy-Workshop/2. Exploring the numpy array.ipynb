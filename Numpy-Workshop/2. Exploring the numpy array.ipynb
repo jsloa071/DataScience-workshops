{
 "cells": [
  {
   "cell_type": "markdown",
   "metadata": {},
   "source": [
    "# Exploring the numpy array"
   ]
  },
  {
   "cell_type": "markdown",
   "metadata": {},
   "source": [
    "In the last section, we learned about the numpy library and how it differs from the Python list and standard array.\n",
    "\n",
    "Here, we will explore other common functionalities the numpy package provides us."
   ]
  },
  {
   "cell_type": "code",
   "execution_count": 155,
   "metadata": {},
   "outputs": [],
   "source": [
    "import numpy as np"
   ]
  },
  {
   "cell_type": "code",
   "execution_count": 156,
   "metadata": {},
   "outputs": [],
   "source": [
    "array = np.arange(20)"
   ]
  },
  {
   "cell_type": "markdown",
   "metadata": {},
   "source": [
    "### Creating n-dimensional arrays"
   ]
  },
  {
   "cell_type": "code",
   "execution_count": 157,
   "metadata": {},
   "outputs": [
    {
     "name": "stdout",
     "output_type": "stream",
     "text": [
      "array with 5 columns and 4 rows:\n",
      "[[ 0  1  2  3]\n",
      " [ 4  5  6  7]\n",
      " [ 8  9 10 11]\n",
      " [12 13 14 15]\n",
      " [16 17 18 19]]\n",
      "shape =  (5, 4)\n",
      "new array type =  <class 'numpy.ndarray'>\n",
      "dimensions:  2\n"
     ]
    }
   ],
   "source": [
    "# we can reshape it into m column and n rows\n",
    "array = array.reshape(5,4)\n",
    "print(\"array with 5 columns and 4 rows:\")\n",
    "print(array)\n",
    "print(\"shape = \", array.shape)\n",
    "\n",
    "# it's now n-dimensional\n",
    "print(\"new array type = \", type(array))\n",
    "print(\"dimensions: \", array.ndim)"
   ]
  },
  {
   "cell_type": "markdown",
   "metadata": {},
   "source": [
    "### Exploring arrays"
   ]
  },
  {
   "cell_type": "code",
   "execution_count": 158,
   "metadata": {},
   "outputs": [
    {
     "name": "stdout",
     "output_type": "stream",
     "text": [
      "dimension:  2\n",
      "type:  <class 'numpy.ndarray'>\n",
      "data type:  int64\n"
     ]
    }
   ],
   "source": [
    "print('dimension: ', array.ndim)\n",
    "print('type: ', type(array))\n",
    "print('data type: ', array.dtype.name)"
   ]
  },
  {
   "cell_type": "code",
   "execution_count": 159,
   "metadata": {},
   "outputs": [
    {
     "name": "stdout",
     "output_type": "stream",
     "text": [
      "number of bytes per item:  8\n",
      "size of array:  20\n"
     ]
    }
   ],
   "source": [
    "print('number of bytes per item: ', array.itemsize)\n",
    "print('size of array: ', array.size)"
   ]
  },
  {
   "cell_type": "markdown",
   "metadata": {},
   "source": [
    "### Initializing arrays"
   ]
  },
  {
   "cell_type": "code",
   "execution_count": 160,
   "metadata": {},
   "outputs": [
    {
     "name": "stdout",
     "output_type": "stream",
     "text": [
      "array of integers:  [1 2 3 4]\n",
      "array of strings:  ['1' '3' 'cat']\n",
      "array of floats:  [1. 3. 3.]\n"
     ]
    }
   ],
   "source": [
    "# Turn a Python list into an array\n",
    "a = np.array([1,2,3,4])\n",
    "print('array of integers: ', a)\n",
    "\n",
    "# But note that if the list has multiple data types, they will be converted to the same type\n",
    "a = np.array([1,3,'cat'])\n",
    "print('array of strings: ', a)\n",
    "\n",
    "a = np.array([1,3,3.0])\n",
    "print('array of floats: ', a)"
   ]
  },
  {
   "cell_type": "code",
   "execution_count": 161,
   "metadata": {},
   "outputs": [
    {
     "name": "stdout",
     "output_type": "stream",
     "text": [
      "zeroes 3x2:\n",
      "[[0. 0.]\n",
      " [0. 0.]\n",
      " [0. 0.]]\n",
      "ones 2x3:\n",
      "[[1. 1. 1.]\n",
      " [1. 1. 1.]]\n"
     ]
    }
   ],
   "source": [
    "# Initialize an array of zeroes with m rows n cols:\n",
    "print('zeroes 3x2:')\n",
    "a = np.zeros((3,2))\n",
    "print(a)\n",
    "\n",
    "# or ones\n",
    "print('ones 2x3:')\n",
    "a = np.ones((2,3))\n",
    "print(a)"
   ]
  },
  {
   "cell_type": "code",
   "execution_count": 162,
   "metadata": {},
   "outputs": [
    {
     "name": "stdout",
     "output_type": "stream",
     "text": [
      "uninitialized:\n",
      "[[4.9e-324 9.9e-324 1.5e-323 2.0e-323]]\n"
     ]
    }
   ],
   "source": [
    "# you can initialize an array with uninitialized values\n",
    "# this can result in anything being in the array!\n",
    "print('uninitialized:')\n",
    "a = np.empty((1,4))\n",
    "print(a)"
   ]
  },
  {
   "cell_type": "code",
   "execution_count": 163,
   "metadata": {},
   "outputs": [
    {
     "name": "stdout",
     "output_type": "stream",
     "text": [
      "5 to 100 in steps of 10:\n",
      "[ 5 15 25 35 45 55 65 75 85 95]\n"
     ]
    }
   ],
   "source": [
    "# you can use range to create sequences\n",
    "print('5 to 100 in steps of 10:')\n",
    "a = np.arange(5,100,10)\n",
    "print(a)"
   ]
  },
  {
   "cell_type": "code",
   "execution_count": 164,
   "metadata": {},
   "outputs": [
    {
     "name": "stdout",
     "output_type": "stream",
     "text": [
      "5 points between 0 and 1:\n",
      "[0.   0.25 0.5  0.75 1.  ]\n"
     ]
    }
   ],
   "source": [
    "# with floating point numbers, it's best to use linspace\n",
    "# linspace returns a vector of n points between a and b\n",
    "print('5 points between 0 and 1:')\n",
    "a = np.linspace(0,1,5)\n",
    "print(a)"
   ]
  },
  {
   "cell_type": "markdown",
   "metadata": {},
   "source": [
    "_observe that to get the fractions of 4, you need to add 1 to n!_"
   ]
  },
  {
   "cell_type": "code",
   "execution_count": 165,
   "metadata": {},
   "outputs": [
    {
     "name": "stdout",
     "output_type": "stream",
     "text": [
      "logspace:\n",
      "[1.00000000e+001 3.16227766e+050 1.00000000e+100]\n",
      "geomspace:\n",
      "[  1.  10. 100.]\n",
      "mgrid:\n",
      "[[[0 0 0 0 0]\n",
      "  [1 1 1 1 1]\n",
      "  [2 2 2 2 2]\n",
      "  [3 3 3 3 3]\n",
      "  [4 4 4 4 4]]\n",
      "\n",
      " [[0 1 2 3 4]\n",
      "  [0 1 2 3 4]\n",
      "  [0 1 2 3 4]\n",
      "  [0 1 2 3 4]\n",
      "  [0 1 2 3 4]]]\n",
      "ogrid:\n",
      "[-1.  -0.5  0.   0.5  1. ]\n"
     ]
    }
   ],
   "source": [
    "# other ways of initializing include:\n",
    "print('logspace:')\n",
    "a = np.logspace(1,100, 3)\n",
    "print(a)\n",
    "\n",
    "print('geomspace:') # numbers spaced evenly on a log scale (geometric progression)\n",
    "a = np.geomspace(1,100, 3)\n",
    "print(a)\n",
    "\n",
    "print('mgrid:')\n",
    "a = np.mgrid[0:5,0:5]\n",
    "print(a)\n",
    "\n",
    "print('ogrid:')\n",
    "a = np.ogrid[-1:1:5j]\n",
    "print(a)"
   ]
  },
  {
   "cell_type": "markdown",
   "metadata": {},
   "source": [
    "### Working with arrays"
   ]
  },
  {
   "cell_type": "markdown",
   "metadata": {},
   "source": [
    "a couple neat functions to keep in mind:"
   ]
  },
  {
   "cell_type": "code",
   "execution_count": 166,
   "metadata": {},
   "outputs": [
    {
     "data": {
      "text/plain": [
       "array([[ 0,  1,  2,  3,  4],\n",
       "       [ 5,  6,  7,  8,  9],\n",
       "       [10, 11, 12, 13, 14],\n",
       "       [15, 16, 17, 18, 19],\n",
       "       [20, 21, 22, 23, 24]])"
      ]
     },
     "execution_count": 166,
     "metadata": {},
     "output_type": "execute_result"
    }
   ],
   "source": [
    "array = np.arange(0,25).reshape(5,5)\n",
    "array"
   ]
  },
  {
   "cell_type": "code",
   "execution_count": 167,
   "metadata": {},
   "outputs": [
    {
     "name": "stdout",
     "output_type": "stream",
     "text": [
      "diagonal:\n",
      "[ 0  6 12 18 24]\n",
      "indexed diagonal (positive:\n",
      "[ 1  7 13 19]\n",
      "indexed diagonal (negative):\n",
      "[ 5 11 17 23]\n",
      "transform this into a new matrix:\n",
      "[[ 0  0  0  0  0]\n",
      " [ 0  6  0  0  0]\n",
      " [ 0  0 12  0  0]\n",
      " [ 0  0  0 18  0]\n",
      " [ 0  0  0  0 24]]\n",
      "trace = sum of the diagonals:\n",
      "60\n"
     ]
    }
   ],
   "source": [
    "print('diagonal:')\n",
    "print(np.diag(array))\n",
    "print('indexed diagonal (positive:')\n",
    "print(np.diag(array, k=1))\n",
    "print('indexed diagonal (negative):')\n",
    "print(np.diag(array, k=-1))\n",
    "print('transform this into a new matrix:')\n",
    "print(np.diag(np.diag(array)))\n",
    "print('trace = sum of the diagonals:')\n",
    "print(np.trace(array))"
   ]
  },
  {
   "cell_type": "code",
   "execution_count": 168,
   "metadata": {},
   "outputs": [
    {
     "name": "stdout",
     "output_type": "stream",
     "text": [
      "upper triangle:\n",
      "[[ 0  1  2  3  4]\n",
      " [ 0  6  7  8  9]\n",
      " [ 0  0 12 13 14]\n",
      " [ 0  0  0 18 19]\n",
      " [ 0  0  0  0 24]]\n",
      "lower triangle:\n",
      "[[ 0  0  0  0  0]\n",
      " [ 5  6  0  0  0]\n",
      " [10 11 12  0  0]\n",
      " [15 16 17 18  0]\n",
      " [20 21 22 23 24]]\n"
     ]
    }
   ],
   "source": [
    "# return the upper and lower triangles\n",
    "print('upper triangle:')\n",
    "print(np.triu(array))\n",
    "print('lower triangle:')\n",
    "print(np.tril(array))"
   ]
  },
  {
   "cell_type": "code",
   "execution_count": 169,
   "metadata": {},
   "outputs": [
    {
     "name": "stdout",
     "output_type": "stream",
     "text": [
      "[[  1   1   1   1   1]\n",
      " [ 16   8   4   2   1]\n",
      " [ 81  27   9   3   1]\n",
      " [256  64  16   4   1]\n",
      " [625 125  25   5   1]]\n"
     ]
    }
   ],
   "source": [
    "# create a vandermonde matrix\n",
    "a = np.array([1,2,3,4,5])\n",
    "print(np.vander(a,5))"
   ]
  },
  {
   "cell_type": "code",
   "execution_count": 170,
   "metadata": {},
   "outputs": [
    {
     "name": "stdout",
     "output_type": "stream",
     "text": [
      "identity matrix:\n",
      "[[1. 0. 0. 0. 0.]\n",
      " [0. 1. 0. 0. 0.]\n",
      " [0. 0. 1. 0. 0.]\n",
      " [0. 0. 0. 1. 0.]\n",
      " [0. 0. 0. 0. 1.]]\n",
      "eye:\n",
      "[[1. 0. 0. 0. 0.]\n",
      " [0. 1. 0. 0. 0.]\n",
      " [0. 0. 1. 0. 0.]\n",
      " [0. 0. 0. 1. 0.]\n",
      " [0. 0. 0. 0. 1.]]\n",
      "offset by +1:\n",
      "[[0. 0. 1. 0. 0.]\n",
      " [0. 0. 0. 1. 0.]\n",
      " [0. 0. 0. 0. 1.]\n",
      " [0. 0. 0. 0. 0.]\n",
      " [0. 0. 0. 0. 0.]]\n",
      "\n",
      "Offsetting the diagonal:\n",
      "Error! Cannot offset the identity matrix!\n",
      "\n"
     ]
    }
   ],
   "source": [
    "# create an identity array\n",
    "print('identity matrix:')\n",
    "print(np.identity(5)*1)\n",
    "\n",
    "# eye is similar, but the diagonal can be offset:\n",
    "print('eye:')\n",
    "print(np.eye(5))\n",
    "print('offset by +1:')\n",
    "print(np.eye(5,k=2))\n",
    "print('')\n",
    "\n",
    "#try offsetting the identity matrix:\n",
    "print('Offsetting the diagonal:')\n",
    "try:\n",
    "    print(np.identity(5, k=1))\n",
    "    print('Successfully offset the identity matrix!')\n",
    "except:\n",
    "    print('Error! Cannot offset the identity matrix!')\n",
    "print(\"\")"
   ]
  }
 ],
 "metadata": {
  "kernelspec": {
   "display_name": "Python 3",
   "language": "python",
   "name": "python3"
  },
  "language_info": {
   "codemirror_mode": {
    "name": "ipython",
    "version": 3
   },
   "file_extension": ".py",
   "mimetype": "text/x-python",
   "name": "python",
   "nbconvert_exporter": "python",
   "pygments_lexer": "ipython3",
   "version": "3.6.5"
  }
 },
 "nbformat": 4,
 "nbformat_minor": 2
}
