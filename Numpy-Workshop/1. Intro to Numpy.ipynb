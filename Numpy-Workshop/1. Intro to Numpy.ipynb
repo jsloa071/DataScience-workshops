{
 "cells": [
  {
   "cell_type": "markdown",
   "metadata": {},
   "source": [
    "# Introduction to Numpy"
   ]
  },
  {
   "cell_type": "markdown",
   "metadata": {},
   "source": [
    "_original tutorial by Jodi Sloan_\n",
    "\n",
    "### What is Numpy?\n",
    "\n",
    "Numpy is a Python library commonly used in the data sciences to provide extra utilities for working with large, multi-dimensional arrays and matrices. In vanilla Python, arrays and array operations don't exist; the list data structure can't do operations like division of the list. Numpy provides an efficient and intuitive way of working with array and matrix structures.\n"
   ]
  },
  {
   "cell_type": "code",
   "execution_count": 10,
   "metadata": {},
   "outputs": [
    {
     "name": "stdout",
     "output_type": "stream",
     "text": [
      "Dividing the list did not work! my_list =  [2, 3, 4]\n",
      "Adding the list worked! my_list =  [2, 3, 4, 2, 3, 4]\n",
      "Adding the list did not work! my_list =  [2, 3, 4, 2, 3, 4]\n"
     ]
    }
   ],
   "source": [
    "# Python lists don't divide\n",
    "my_list = [2,3,4]\n",
    "try:\n",
    "    my_list = my_list/3\n",
    "    print('Dividing the list worked! my_list = ', my_list)\n",
    "except TypeError as e:\n",
    "    print('Dividing the list did not work! my_list = ', my_list)\n",
    "# You can add lists, but it's not what you might expect...\n",
    "try:\n",
    "    my_list = my_list + my_list\n",
    "    print('Adding the list worked! my_list = ', my_list)\n",
    "except TypeError as e:\n",
    "    print('Adding the list did not work! my_list = ', my_list)\n",
    "# Since lists append with the plus operator, you can't perform addition operations\n",
    "try:\n",
    "    my_list = my_list + 2\n",
    "    print('Adding the list worked! my_list = ', my_list)\n",
    "except TypeError as e:\n",
    "    print('Adding the list did not work! my_list = ', my_list)"
   ]
  },
  {
   "cell_type": "markdown",
   "metadata": {},
   "source": [
    "### Common Numpy Operations"
   ]
  },
  {
   "cell_type": "code",
   "execution_count": 11,
   "metadata": {},
   "outputs": [],
   "source": [
    "# import numpy\n",
    "import numpy as np"
   ]
  },
  {
   "cell_type": "code",
   "execution_count": 23,
   "metadata": {},
   "outputs": [
    {
     "name": "stdout",
     "output_type": "stream",
     "text": [
      "array =  [ 0  1  2  3  4  5  6  7  8  9 10 11 12 13 14 15 16 17 18 19]\n",
      "type =  <class 'numpy.ndarray'>\n"
     ]
    }
   ],
   "source": [
    "# create an array of 20 elements (from 0..20)\n",
    "array = np.arange(20)\n",
    "print(\"array = \", array)\n",
    "print(\"type = \", type(array))"
   ]
  },
  {
   "cell_type": "code",
   "execution_count": 25,
   "metadata": {},
   "outputs": [
    {
     "name": "stdout",
     "output_type": "stream",
     "text": [
      "list =  [0, 1, 2, 3, 4, 5, 6, 7, 8, 9, 10, 11, 12, 13, 14, 15, 16, 17, 18, 19]\n",
      "type =  <class 'list'>\n"
     ]
    }
   ],
   "source": [
    "# notice it's different from a python list\n",
    "my_list = list(range(0,20))\n",
    "print(\"list = \", my_list)\n",
    "print(\"type = \", type(my_list))"
   ]
  },
  {
   "cell_type": "code",
   "execution_count": 52,
   "metadata": {},
   "outputs": [
    {
     "name": "stdout",
     "output_type": "stream",
     "text": [
      "array =  array('d', [1.1, 3.5, 4.5])\n",
      "type =  <class 'array.array'>\n",
      "array =  array('u', 'hello ♁')\n",
      "type =  <class 'array.array'>\n"
     ]
    }
   ],
   "source": [
    "# what about the array module?\n",
    "import array as arr\n",
    "\n",
    "# you can create arrays, but they are restricted by the type code (first arg below) and are 1-dimensional\n",
    "a = arr.array('d', [1.1, 3.5, 4.5])\n",
    "print(\"array = \", a)\n",
    "print(\"type = \", type(a))\n",
    "a = arr.array('u', u'hello \\u2641')\n",
    "print(\"array = \", a)\n",
    "print(\"type = \", type(a))"
   ]
  },
  {
   "cell_type": "code",
   "execution_count": null,
   "metadata": {},
   "outputs": [],
   "source": []
  }
 ],
 "metadata": {
  "kernelspec": {
   "display_name": "Python 3",
   "language": "python",
   "name": "python3"
  },
  "language_info": {
   "codemirror_mode": {
    "name": "ipython",
    "version": 3
   },
   "file_extension": ".py",
   "mimetype": "text/x-python",
   "name": "python",
   "nbconvert_exporter": "python",
   "pygments_lexer": "ipython3",
   "version": "3.6.5"
  }
 },
 "nbformat": 4,
 "nbformat_minor": 2
}
