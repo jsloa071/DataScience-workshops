{
 "cells": [
  {
   "cell_type": "markdown",
   "metadata": {},
   "source": [
    "### Random Sampling"
   ]
  },
  {
   "cell_type": "code",
   "execution_count": 2,
   "metadata": {},
   "outputs": [],
   "source": [
    "import numpy as np"
   ]
  },
  {
   "cell_type": "code",
   "execution_count": 6,
   "metadata": {},
   "outputs": [
    {
     "data": {
      "text/plain": [
       "0.21125756208227486"
      ]
     },
     "execution_count": 6,
     "metadata": {},
     "output_type": "execute_result"
    }
   ],
   "source": [
    "# generate a random number\n",
    "np.random.rand()"
   ]
  },
  {
   "cell_type": "code",
   "execution_count": 16,
   "metadata": {},
   "outputs": [
    {
     "name": "stdout",
     "output_type": "stream",
     "text": [
      "After seeding:\n",
      "0.417022004702574\n",
      "0.7203244934421581\n",
      "0.00011437481734488664\n",
      "\n",
      "After re-seeding:\n",
      "0.417022004702574\n",
      "0.7203244934421581\n",
      "0.00011437481734488664\n"
     ]
    }
   ],
   "source": [
    "# seed your randomness so they are reproducible:\n",
    "np.random.seed(1)\n",
    "\n",
    "print('After seeding:')\n",
    "print(np.random.rand())\n",
    "print(np.random.rand())\n",
    "print(np.random.rand())\n",
    "print()\n",
    "\n",
    "print('After re-seeding:')\n",
    "np.random.seed(1)\n",
    "print(np.random.rand())\n",
    "print(np.random.rand())\n",
    "print(np.random.rand())"
   ]
  },
  {
   "cell_type": "code",
   "execution_count": 33,
   "metadata": {},
   "outputs": [
    {
     "name": "stdout",
     "output_type": "stream",
     "text": [
      "random int:  4\n",
      "random integers:  20\n"
     ]
    }
   ],
   "source": [
    "print('random int: ', np.random.randint(1,10))\n",
    "print('random integers: ', np.random.randint(5,25+3))"
   ]
  },
  {
   "cell_type": "code",
   "execution_count": 34,
   "metadata": {},
   "outputs": [
    {
     "data": {
      "text/plain": [
       "0.059243201301563464"
      ]
     },
     "execution_count": 34,
     "metadata": {},
     "output_type": "execute_result"
    }
   ],
   "source": [
    "# sample from the continuous uniform distribution\n",
    "np.random.random_sample()"
   ]
  },
  {
   "cell_type": "code",
   "execution_count": 36,
   "metadata": {},
   "outputs": [
    {
     "data": {
      "text/plain": [
       "2.9653275914902846"
      ]
     },
     "execution_count": 36,
     "metadata": {},
     "output_type": "execute_result"
    }
   ],
   "source": [
    "np.array(np.random.random_sample())*5"
   ]
  },
  {
   "cell_type": "code",
   "execution_count": 40,
   "metadata": {},
   "outputs": [
    {
     "data": {
      "text/plain": [
       "array([[0.56591203, 0.61393832, 0.95653566, 0.26097898],\n",
       "       [0.23101542, 0.53344849, 0.94993814, 0.49305959],\n",
       "       [0.54060051, 0.7654851 , 0.04534573, 0.13996612]])"
      ]
     },
     "execution_count": 40,
     "metadata": {},
     "output_type": "execute_result"
    }
   ],
   "source": [
    "# Create an array of random numbers m rows x n cols\n",
    "np.random.rand(3,4)"
   ]
  },
  {
   "cell_type": "code",
   "execution_count": 46,
   "metadata": {},
   "outputs": [
    {
     "data": {
      "text/plain": [
       "b'\\x95x(\\x96\\xcb'"
      ]
     },
     "execution_count": 46,
     "metadata": {},
     "output_type": "execute_result"
    }
   ],
   "source": [
    "# Return random bytes\n",
    "np.random.bytes(5)"
   ]
  },
  {
   "cell_type": "code",
   "execution_count": 51,
   "metadata": {},
   "outputs": [
    {
     "name": "stdout",
     "output_type": "stream",
     "text": [
      "random sequence of 0 to 9: \n",
      "[3 2 7 5 6 1 8 0 4]\n",
      "random 3x3 matrix of 0 to 9: \n",
      "[[7 0 6]\n",
      " [8 5 4]\n",
      " [2 1 3]]\n"
     ]
    }
   ],
   "source": [
    "# Randomly permutate a sequence\n",
    "sequence = np.arange(9) # array of 0..9\n",
    "print('random sequence of 0 to 9: ')\n",
    "print(np.random.permutation(sequence))\n",
    "\n",
    "print('random 3x3 matrix of 0 to 9: ')\n",
    "print(np.random.permutation(sequence).reshape(3,3))"
   ]
  },
  {
   "cell_type": "code",
   "execution_count": 58,
   "metadata": {},
   "outputs": [
    {
     "name": "stdout",
     "output_type": "stream",
     "text": [
      "sequence:\n",
      "[[0.77273915 0.15292982]\n",
      " [0.57863393 0.009008  ]\n",
      " [0.70904252 0.47064081]]\n",
      "shuffle the sequence:\n",
      "None\n"
     ]
    }
   ],
   "source": [
    "# shuffle will shuffle the elements in-place in the first axis of a n-d array\n",
    "# the contents of sub-arrays remain the same\n",
    "sequence = np.random.random((3,2))\n",
    "print('sequence:')\n",
    "print(sequence)\n",
    "print('shuffle the sequence:')\n",
    "print(np.random.shuffle(sequence))"
   ]
  },
  {
   "cell_type": "markdown",
   "metadata": {},
   "source": [
    "There are tons of other distributions you can draw random numbers from. See more [here](https://docs.scipy.org/doc/numpy-1.15.1/reference/routines.random.html)."
   ]
  },
  {
   "cell_type": "code",
   "execution_count": null,
   "metadata": {},
   "outputs": [],
   "source": []
  }
 ],
 "metadata": {
  "kernelspec": {
   "display_name": "Python 3",
   "language": "python",
   "name": "python3"
  },
  "language_info": {
   "codemirror_mode": {
    "name": "ipython",
    "version": 3
   },
   "file_extension": ".py",
   "mimetype": "text/x-python",
   "name": "python",
   "nbconvert_exporter": "python",
   "pygments_lexer": "ipython3",
   "version": "3.6.5"
  }
 },
 "nbformat": 4,
 "nbformat_minor": 2
}
